{
 "cells": [
  {
   "attachments": {},
   "cell_type": "markdown",
   "metadata": {},
   "source": [
    "#### Demo1 CAST Mark captures common spatial features across multiple samples"
   ]
  },
  {
   "cell_type": "code",
   "execution_count": 5,
   "metadata": {
    "vscode": {
     "languageId": "python"
    }
   },
   "outputs": [],
   "source": [
    "import os\n",
    "import numpy as np\n",
    "import anndata as ad\n",
    "import scanpy as sc\n",
    "from CAST import *\n",
    "import warnings\n",
    "warnings.filterwarnings(\"ignore\")\n",
    "work_dir = '$demo_path' #### input the demo path"
   ]
  },
  {
   "attachments": {},
   "cell_type": "markdown",
   "metadata": {},
   "source": [
    "#### Load Data\n",
    "- CAST Mark method only require the following data modalities:\n",
    "    1. gene expression raw counts\n",
    "    2. spatial coordinates of the cells\n",
    "- We organize spatial omics data in the AnnData format (We recommend readers to pre-organize data in this format):\n",
    "    - `adata.X` stores the STARmap gene expression raw counts\n",
    "    - `adata.obs` contains important cell-level annotation, including spatial coordinates (column name: `'x'`, `'y'`)\n",
    "    - Data for different experimental samples are combined in a single Anndata object (column name `'sample'`)"
   ]
  },
  {
   "cell_type": "markdown",
   "metadata": {},
   "source": [
    "#### Settings"
   ]
  },
  {
   "cell_type": "code",
   "execution_count": 6,
   "metadata": {
    "vscode": {
     "languageId": "python"
    }
   },
   "outputs": [],
   "source": [
    "output_path = f'{work_dir}/demo1_CAST_Mark/demo_output'\n",
    "os.makedirs(output_path, exist_ok=True)\n",
    "adata = ad.read_h5ad(f'{output_path}/../data/demo1.h5ad')\n",
    "adata.layers['norm_1e4'] = sc.pp.normalize_total(adata, target_sum=1e4, inplace=False)['X'].toarray() # we use normalized counts for each cell as input gene expression\n",
    "\n",
    "samples = np.unique(adata.obs['sample']) # used samples in adata\n",
    "coords_raw = {name: np.array(list(zip(group['x'], group['y']))) for name, group in adata.obs.groupby(by=['sample'])}\n",
    "exp_dict = {sample_t: adata[adata.obs['sample'] == sample_t].layers['norm_1e4'] for sample_t in samples}"
   ]
  },
  {
   "attachments": {},
   "cell_type": "markdown",
   "metadata": {},
   "source": [
    "#### Run"
   ]
  },
  {
   "cell_type": "code",
   "execution_count": null,
   "metadata": {
    "vscode": {
     "languageId": "python"
    }
   },
   "outputs": [],
   "source": [
    "### Run the model to generate the graph embedding\n",
    "embed_dict = CAST_MARK(coords_raw,exp_dict,output_path)"
   ]
  },
  {
   "cell_type": "code",
   "execution_count": null,
   "metadata": {
    "vscode": {
     "languageId": "python"
    }
   },
   "outputs": [],
   "source": [
    "### Visualize the embedding with Kmeans clustering\n",
    "kmeans_plot_multiple(embed_dict,samples,coords_raw,'demo1',output_path,k=20,dot_size = 10,minibatch=False)"
   ]
  }
 ],
 "metadata": {
  "kernelspec": {
   "display_name": "Python 3 (ipykernel)",
   "language": "python",
   "name": "python3"
  }
 },
 "nbformat": 4,
 "nbformat_minor": 2
}
